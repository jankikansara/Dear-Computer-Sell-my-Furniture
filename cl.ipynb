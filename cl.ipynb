{
 "cells": [
  {
   "cell_type": "code",
   "execution_count": 19,
   "metadata": {},
   "outputs": [
    {
     "name": "stdout",
     "output_type": "stream",
     "text": [
      "Populating the interactive namespace from numpy and matplotlib\n",
      "<li class=\"result-row\" data-pid=\"6324719233\">\n",
      "<a class=\"result-image gallery\" data-ids=\"1:00E0E_g0oESEYYc2d,1:00Z0Z_30jvGNbS2Rp,1:00Q0Q_50OmB8ndr2I\" href=\"https://philadelphia.craigslist.org/fuo/d/beautiful-bdi-high/6324719233.html\">\n",
      "<span class=\"result-price\">$777</span>\n",
      "</a>\n",
      "<p class=\"result-info\">\n",
      "<span class=\"icon icon-star\" role=\"button\">\n",
      "<span class=\"screen-reader-text\">favorite this post</span>\n",
      "</span>\n",
      "<time class=\"result-date\" datetime=\"2017-10-24 12:22\" title=\"Tue 24 Oct 12:22:55 PM\">Oct 24</time>\n",
      "<a class=\"result-title hdrlnk\" data-id=\"6324719233\" href=\"https://philadelphia.craigslist.org/fuo/d/beautiful-bdi-high/6324719233.html\">Beautiful BDI High-Performance Furniture Sequel Desk</a>\n",
      "<span class=\"result-meta\">\n",
      "<span class=\"result-price\">$777</span>\n",
      "<span class=\"result-tags\">\n",
      "                    pic\n",
      "                    <span class=\"maptag\" data-pid=\"6324719233\">map</span>\n",
      "</span>\n",
      "<span class=\"banish icon icon-trash\" role=\"button\">\n",
      "<span class=\"screen-reader-text\">hide this posting</span>\n",
      "</span>\n",
      "<span aria-hidden=\"true\" class=\"unbanish icon icon-trash red\" role=\"button\"></span>\n",
      "<a class=\"restore-link\" href=\"#\">\n",
      "<span class=\"restore-narrow-text\">restore</span>\n",
      "<span class=\"restore-wide-text\">restore this posting</span>\n",
      "</a>\n",
      "</span>\n",
      "</p>\n",
      "</li>\n",
      "Beautiful BDI High-Performance Furniture Sequel Desk\n"
     ]
    },
    {
     "data": {
      "text/plain": [
       "('C:\\\\Users\\\\nsd004\\\\Desktop\\\\CLData\\\\00E0E_g0oESEYYc2d.jpg',\n",
       " <http.client.HTTPMessage at 0x68e35f8>)"
      ]
     },
     "execution_count": 19,
     "metadata": {},
     "output_type": "execute_result"
    }
   ],
   "source": [
    "import pandas as pd\n",
    "import requests\n",
    "from bs4 import BeautifulSoup as bs4\n",
    "import urllib\n",
    "import csv\n",
    "%pylab inline\n",
    "\n",
    "\n",
    "def getlistings(city, neighborhood):\n",
    "    furniture = []\n",
    "    url_base = 'https://'+city+'.craigslist.org/d/furniture/search'+neighborhood+'/fua'\n",
    "    for i in range(19):\n",
    "        params = dict(s=120*i)\n",
    "        resp = requests.get(url_base, params=params)\n",
    "\n",
    "        html = bs4(resp.text, 'html.parser')\n",
    "        #print(html.prettify()[50000:60000])\n",
    "\n",
    "        furn_pg = html.find_all('li', attrs={'class':'result-row'})\n",
    "        furniture.extend(furn_pg)\n",
    "    \n",
    "    return(furniture)\n",
    "\n",
    "\n",
    "furniture = getlistings('philadelphia','')\n",
    "for this_furniture in furniture:\n",
    "    headline = this_furniture.find_all( attrs={'class':'result-title hdrlnk'})[0].text\n",
    "    imagename = this_furniture.find_all( attrs={'class':'result-image gallery'})[0].get('data-ids')\n",
    "    imagenumber = imagename.split(',')[0].split(':')[1]\n",
    "    urllib.request.urlretrieve(\"https://images.craigslist.org/\"+imagenumber+\"_300x300.jpg\", \"C:\\\\Users\\\\nsd004\\\\Desktop\\\\CLData\\\\\"+imagenumber+\".jpg\")\n",
    "    listing = [city, headline, imagenumber]\n",
    "\n",
    "    #urllib.request.urlretrieve(\"https://images.craigslist.org/00k0k_k0kesPNkMOs_300x300.jpg\", imagenumber+\".jpg\")\n"
   ]
  }
 ],
 "metadata": {
  "kernelspec": {
   "display_name": "Python 3",
   "language": "python",
   "name": "python3"
  },
  "language_info": {
   "codemirror_mode": {
    "name": "ipython",
    "version": 3
   },
   "file_extension": ".py",
   "mimetype": "text/x-python",
   "name": "python",
   "nbconvert_exporter": "python",
   "pygments_lexer": "ipython3",
   "version": "3.6.1"
  }
 },
 "nbformat": 4,
 "nbformat_minor": 2
}
